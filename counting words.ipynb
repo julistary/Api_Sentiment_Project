{
 "cells": [
  {
   "cell_type": "code",
   "execution_count": 72,
   "metadata": {},
   "outputs": [],
   "source": []
  },
  {
   "cell_type": "code",
   "execution_count": 275,
   "metadata": {},
   "outputs": [],
   "source": [
    "import pandas as pd\n",
    "import src.downloading_and_cleaning as dc\n",
    "import nltk\n",
    "from nltk.corpus import stopwords\n",
    "import matplotlib.pyplot as plt\n",
    "import collections"
   ]
  },
  {
   "cell_type": "code",
   "execution_count": 5,
   "metadata": {},
   "outputs": [
    {
     "data": {
      "text/html": [
       "<div>\n",
       "<style scoped>\n",
       "    .dataframe tbody tr th:only-of-type {\n",
       "        vertical-align: middle;\n",
       "    }\n",
       "\n",
       "    .dataframe tbody tr th {\n",
       "        vertical-align: top;\n",
       "    }\n",
       "\n",
       "    .dataframe thead th {\n",
       "        text-align: right;\n",
       "    }\n",
       "</style>\n",
       "<table border=\"1\" class=\"dataframe\">\n",
       "  <thead>\n",
       "    <tr style=\"text-align: right;\">\n",
       "      <th></th>\n",
       "      <th>index</th>\n",
       "      <th>author</th>\n",
       "      <th>episode_number</th>\n",
       "      <th>episode_title</th>\n",
       "      <th>quote</th>\n",
       "      <th>season</th>\n",
       "    </tr>\n",
       "  </thead>\n",
       "  <tbody>\n",
       "    <tr>\n",
       "      <th>0</th>\n",
       "      <td>0</td>\n",
       "      <td>Monica</td>\n",
       "      <td>1</td>\n",
       "      <td>Monica Gets A Roommate</td>\n",
       "      <td>There's nothing to tell! He's just some guy I ...</td>\n",
       "      <td>1</td>\n",
       "    </tr>\n",
       "    <tr>\n",
       "      <th>1</th>\n",
       "      <td>1</td>\n",
       "      <td>Joey</td>\n",
       "      <td>1</td>\n",
       "      <td>Monica Gets A Roommate</td>\n",
       "      <td>C'mon, you're going out with the guy! There's ...</td>\n",
       "      <td>1</td>\n",
       "    </tr>\n",
       "    <tr>\n",
       "      <th>2</th>\n",
       "      <td>2</td>\n",
       "      <td>Chandler</td>\n",
       "      <td>1</td>\n",
       "      <td>Monica Gets A Roommate</td>\n",
       "      <td>All right Joey, be nice. So does he have a hum...</td>\n",
       "      <td>1</td>\n",
       "    </tr>\n",
       "    <tr>\n",
       "      <th>3</th>\n",
       "      <td>3</td>\n",
       "      <td>Phoebe</td>\n",
       "      <td>1</td>\n",
       "      <td>Monica Gets A Roommate</td>\n",
       "      <td>Wait, does he eat chalk?</td>\n",
       "      <td>1</td>\n",
       "    </tr>\n",
       "    <tr>\n",
       "      <th>4</th>\n",
       "      <td>4</td>\n",
       "      <td>Phoebe</td>\n",
       "      <td>1</td>\n",
       "      <td>Monica Gets A Roommate</td>\n",
       "      <td>Just, 'cause, I don't want her to go through w...</td>\n",
       "      <td>1</td>\n",
       "    </tr>\n",
       "  </tbody>\n",
       "</table>\n",
       "</div>"
      ],
      "text/plain": [
       "   index    author episode_number           episode_title  \\\n",
       "0      0    Monica              1  Monica Gets A Roommate   \n",
       "1      1      Joey              1  Monica Gets A Roommate   \n",
       "2      2  Chandler              1  Monica Gets A Roommate   \n",
       "3      3    Phoebe              1  Monica Gets A Roommate   \n",
       "4      4    Phoebe              1  Monica Gets A Roommate   \n",
       "\n",
       "                                               quote season  \n",
       "0  There's nothing to tell! He's just some guy I ...      1  \n",
       "1  C'mon, you're going out with the guy! There's ...      1  \n",
       "2  All right Joey, be nice. So does he have a hum...      1  \n",
       "3                           Wait, does he eat chalk?      1  \n",
       "4  Just, 'cause, I don't want her to go through w...      1  "
      ]
     },
     "execution_count": 5,
     "metadata": {},
     "output_type": "execute_result"
    }
   ],
   "source": [
    "df = pd.read_csv(\"data/dataset.csv\")\n",
    "\n",
    "main_characters = ['Joey', 'Chandler', 'Ross', 'Monica', 'Rachel', 'Phoebe', 'Gunther', 'Mike', 'Janice']\n",
    "\n",
    "df = dc.cleaning(df,main_characters)\n",
    "\n",
    "df.head()"
   ]
  },
  {
   "cell_type": "code",
   "execution_count": 294,
   "metadata": {},
   "outputs": [],
   "source": [
    "def script(df,author):\n",
    "    whole_script = str(list(df[df['author'] == author].quote))\n",
    "    whole_script = whole_script.replace(\"[\", \"\")\n",
    "    whole_script = whole_script.replace(\"\\\\x92\", \"\")\n",
    "    whole_script = whole_script.replace(\"\\\"\",\"\")\n",
    "    whole_script = whole_script.replace(\"'\",\"\")\n",
    "    whole_script = whole_script.replace(\",\",\"\")\n",
    "    whole_script = whole_script.replace(\".\",\"\")\n",
    "    whole_script = whole_script.replace(\"!\",\"\")\n",
    "    whole_script = whole_script.replace(\"?\",\"\")\n",
    "    whole_script = whole_script.replace(\")\",\"\")\n",
    "    whole_script = whole_script.replace(\"(\",\"\")\n",
    "    return whole_script"
   ]
  },
  {
   "cell_type": "code",
   "execution_count": 296,
   "metadata": {},
   "outputs": [],
   "source": [
    "\n",
    "stop_words = stopwords.words('english')\n",
    "stop_words += ['tell', 'im', 'hi','uh' ,'oh', 'dont', 'well', 'know', 'gonna', 'get', 'okay', 'youre', 'like', 'thats', 'yeah', 'think', 'she', 'yknow', 'really', 'mean', 'right', 'look', 'to', 'go', 'hey', 'uhh', 'got', 'come', 'see', 'cant', 'one', 'want', 'going', 'say', 'guys', 'good', 'back', 'god', 'ok', 'wanna']"
   ]
  },
  {
   "cell_type": "code",
   "execution_count": 297,
   "metadata": {},
   "outputs": [],
   "source": [
    "def commonwds(main_characters,df,stop_words,whole_script):\n",
    "    most_common = {}\n",
    "    for character in main_characters:\n",
    "        whole_script = script(df,character)\n",
    "        wordcount = {}\n",
    "        for word in whole_script.lower().split():\n",
    "            if word not in stop_words:\n",
    "                if word not in wordcount:\n",
    "                    wordcount[word] = 1\n",
    "                else:\n",
    "                    wordcount[word] += 1\n",
    "        word_counter = collections.Counter(wordcount)\n",
    "        for word, count in word_counter.most_common(2):\n",
    "            most_common[character] = word\n",
    "        return most_common"
   ]
  },
  {
   "cell_type": "code",
   "execution_count": 298,
   "metadata": {},
   "outputs": [
    {
     "data": {
      "text/plain": [
       "{'Joey': 'chandler',\n",
       " 'Chandler': 'joey',\n",
       " 'Ross': 'joey',\n",
       " 'Monica': 'phoebe',\n",
       " 'Rachel': 'joey',\n",
       " 'Phoebe': 'rachel',\n",
       " 'Gunther': 'joey',\n",
       " 'Mike': 'love',\n",
       " 'Janice': 'laughs'}"
      ]
     },
     "execution_count": 298,
     "metadata": {},
     "output_type": "execute_result"
    }
   ],
   "source": [
    "most_common"
   ]
  },
  {
   "cell_type": "code",
   "execution_count": 266,
   "metadata": {
    "code_folding": [
     4
    ]
   },
   "outputs": [],
   "source": [
    "whole = \"\"\n",
    "word_c = {}\n",
    "for character in main_characters:\n",
    "    whole += script(df,character)\n",
    "    wordcount = {}\n",
    "    for word in whole.lower().split():\n",
    "        if word not in stop_words:\n",
    "            if word not in wordcount:\n",
    "                wordcount[word] = 1\n",
    "            else:\n",
    "                wordcount[word] += 1\n",
    "    word_counter = collections.Counter(wordcount)\n",
    "    for word, count in word_counter.most_common(5):\n",
    "        word_c[word] = count"
   ]
  },
  {
   "cell_type": "code",
   "execution_count": 274,
   "metadata": {},
   "outputs": [
    {
     "data": {
      "text/plain": [
       "{'ross': 1939,\n",
       " 'chandler': 1610,\n",
       " 'rachel': 1392,\n",
       " 'joey': 1751,\n",
       " 'monica': 1414,\n",
       " 'great': 338}"
      ]
     },
     "execution_count": 274,
     "metadata": {},
     "output_type": "execute_result"
    }
   ],
   "source": [
    "word_c"
   ]
  },
  {
   "cell_type": "code",
   "execution_count": 277,
   "metadata": {},
   "outputs": [
    {
     "data": {
      "image/png": "[encoded data removed]",
      "text/plain": [
       "<Figure size 432x288 with 1 Axes>"
      ]
     },
     "metadata": {
      "needs_background": "light"
     },
     "output_type": "display_data"
    }
   ],
   "source": [
    "plt.bar(*zip(*word_c.items()))\n",
    "plt.show()"
   ]
  },
  {
   "cell_type": "code",
   "execution_count": 299,
   "metadata": {},
   "outputs": [
    {
     "ename": "TypeError",
     "evalue": "unhashable type: 'list'",
     "output_type": "error",
     "traceback": [
      "\u001b[0;31m---------------------------------------------------------------------------\u001b[0m",
      "\u001b[0;31mTypeError\u001b[0m                                 Traceback (most recent call last)",
      "\u001b[0;32m<ipython-input-299-330a9e6a34a0>\u001b[0m in \u001b[0;36m<module>\u001b[0;34m\u001b[0m\n\u001b[1;32m      7\u001b[0m \u001b[0mword_counter\u001b[0m \u001b[0;34m=\u001b[0m \u001b[0mcollections\u001b[0m\u001b[0;34m.\u001b[0m\u001b[0mCounter\u001b[0m\u001b[0;34m(\u001b[0m\u001b[0mwordcount\u001b[0m\u001b[0;34m)\u001b[0m\u001b[0;34m\u001b[0m\u001b[0;34m\u001b[0m\u001b[0m\n\u001b[1;32m      8\u001b[0m \u001b[0;32mfor\u001b[0m \u001b[0mword\u001b[0m\u001b[0;34m,\u001b[0m \u001b[0mcount\u001b[0m \u001b[0;32min\u001b[0m \u001b[0mword_counter\u001b[0m\u001b[0;34m.\u001b[0m\u001b[0mmost_common\u001b[0m\u001b[0;34m(\u001b[0m\u001b[0;36m2\u001b[0m\u001b[0;34m)\u001b[0m\u001b[0;34m:\u001b[0m\u001b[0;34m\u001b[0m\u001b[0;34m\u001b[0m\u001b[0m\n\u001b[0;32m----> 9\u001b[0;31m     \u001b[0mmost_common\u001b[0m\u001b[0;34m[\u001b[0m\u001b[0mcharacter\u001b[0m\u001b[0;34m]\u001b[0m \u001b[0;34m=\u001b[0m \u001b[0mword\u001b[0m\u001b[0;34m\u001b[0m\u001b[0;34m\u001b[0m\u001b[0m\n\u001b[0m\u001b[1;32m     10\u001b[0m     \u001b[0mword_c\u001b[0m\u001b[0;34m[\u001b[0m\u001b[0mword\u001b[0m\u001b[0;34m]\u001b[0m \u001b[0;34m=\u001b[0m \u001b[0mcount\u001b[0m\u001b[0;34m\u001b[0m\u001b[0;34m\u001b[0m\u001b[0m\n",
      "\u001b[0;31mTypeError\u001b[0m: unhashable type: 'list'"
     ]
    }
   ],
   "source": [
    "    for word in whole_script.lower().split():\n",
    "        if word not in stop_words:\n",
    "            if word not in wordcount:\n",
    "                wordcount[word] = 1\n",
    "            else:\n",
    "                wordcount[word] += 1\n",
    "    word_counter = collections.Counter(wordcount)\n",
    "    for word, count in word_counter.most_common(2):\n",
    "        most_common[character] = word\n",
    "        word_c[word] = count"
   ]
  },
  {
   "cell_type": "code",
   "execution_count": 281,
   "metadata": {},
   "outputs": [
    {
     "data": {
      "text/html": [
       "<div>\n",
       "<style scoped>\n",
       "    .dataframe tbody tr th:only-of-type {\n",
       "        vertical-align: middle;\n",
       "    }\n",
       "\n",
       "    .dataframe tbody tr th {\n",
       "        vertical-align: top;\n",
       "    }\n",
       "\n",
       "    .dataframe thead th {\n",
       "        text-align: right;\n",
       "    }\n",
       "</style>\n",
       "<table border=\"1\" class=\"dataframe\">\n",
       "  <thead>\n",
       "    <tr style=\"text-align: right;\">\n",
       "      <th></th>\n",
       "      <th>character</th>\n",
       "      <th>word</th>\n",
       "      <th>sentiment</th>\n",
       "    </tr>\n",
       "  </thead>\n",
       "  <tbody>\n",
       "    <tr>\n",
       "      <th>0</th>\n",
       "      <td>Joey</td>\n",
       "      <td>chandler</td>\n",
       "      <td>neutral</td>\n",
       "    </tr>\n",
       "    <tr>\n",
       "      <th>1</th>\n",
       "      <td>Chandler</td>\n",
       "      <td>joey</td>\n",
       "      <td>positive</td>\n",
       "    </tr>\n",
       "    <tr>\n",
       "      <th>2</th>\n",
       "      <td>Ross</td>\n",
       "      <td>joey</td>\n",
       "      <td>positive</td>\n",
       "    </tr>\n",
       "    <tr>\n",
       "      <th>3</th>\n",
       "      <td>Monica</td>\n",
       "      <td>phoebe</td>\n",
       "      <td>neutral</td>\n",
       "    </tr>\n",
       "    <tr>\n",
       "      <th>4</th>\n",
       "      <td>Rachel</td>\n",
       "      <td>joey</td>\n",
       "      <td>positive</td>\n",
       "    </tr>\n",
       "    <tr>\n",
       "      <th>5</th>\n",
       "      <td>Phoebe</td>\n",
       "      <td>rachel</td>\n",
       "      <td>positive</td>\n",
       "    </tr>\n",
       "    <tr>\n",
       "      <th>6</th>\n",
       "      <td>Gunther</td>\n",
       "      <td>joey</td>\n",
       "      <td>neutral</td>\n",
       "    </tr>\n",
       "    <tr>\n",
       "      <th>7</th>\n",
       "      <td>Mike</td>\n",
       "      <td>love</td>\n",
       "      <td>neutral</td>\n",
       "    </tr>\n",
       "    <tr>\n",
       "      <th>8</th>\n",
       "      <td>Janice</td>\n",
       "      <td>laughs</td>\n",
       "      <td>positive</td>\n",
       "    </tr>\n",
       "  </tbody>\n",
       "</table>\n",
       "</div>"
      ],
      "text/plain": [
       "  character      word sentiment\n",
       "0      Joey  chandler   neutral\n",
       "1  Chandler      joey  positive\n",
       "2      Ross      joey  positive\n",
       "3    Monica    phoebe   neutral\n",
       "4    Rachel      joey  positive\n",
       "5    Phoebe    rachel  positive\n",
       "6   Gunther      joey   neutral\n",
       "7      Mike      love   neutral\n",
       "8    Janice    laughs  positive"
      ]
     },
     "execution_count": 281,
     "metadata": {},
     "output_type": "execute_result"
    }
   ],
   "source": [
    "character = ['Joey', 'Chandler', 'Ross', 'Monica', 'Rachel', 'Phoebe', 'Gunther', 'Mike', 'Janice']\n",
    "word = ['chandler', 'joey', 'joey', 'phoebe','joey', 'rachel','joey','love','laughs']\n",
    "sentiment = ['neutral', 'positive', 'positive', 'neutral','positive','positive','neutral', 'neutral', 'positive']\n",
    "\n",
    "dict_ = { 'character' : author,\n",
    "         'word' : word,\n",
    "         'sentiment' : sentiment\n",
    "        }\n",
    "\n",
    "new_df = pd.DataFrame.from_dict(dict_)\n",
    "new_df\n"
   ]
  },
  {
   "cell_type": "code",
   "execution_count": 283,
   "metadata": {},
   "outputs": [],
   "source": [
    "from pymongo import MongoClient\n",
    "import json"
   ]
  },
  {
   "cell_type": "code",
   "execution_count": 285,
   "metadata": {},
   "outputs": [],
   "source": [
    "new_df.to_json(\"friends_json\",orient=\"records\")"
   ]
  },
  {
   "cell_type": "code",
   "execution_count": 286,
   "metadata": {},
   "outputs": [
    {
     "name": "stdout",
     "output_type": "stream",
     "text": [
      "2021-05-01T19:19:23.317+0200\tconnected to: mongodb://localhost/\r\n",
      "2021-05-01T19:19:23.323+0200\t9 document(s) imported successfully. 0 document(s) failed to import.\r\n"
     ]
    }
   ],
   "source": [
    "!mongoimport --db friends --collection quotes --jsonArray friends_json"
   ]
  },
  {
   "cell_type": "code",
   "execution_count": null,
   "metadata": {},
   "outputs": [],
   "source": []
  }
 ],
 "metadata": {
  "kernelspec": {
   "display_name": "api",
   "language": "python",
   "name": "api"
  },
  "language_info": {
   "codemirror_mode": {
    "name": "ipython",
    "version": 3
   },
   "file_extension": ".py",
   "mimetype": "text/x-python",
   "name": "python",
   "nbconvert_exporter": "python",
   "pygments_lexer": "ipython3",
   "version": "3.8.8"
  }
 },
 "nbformat": 4,
 "nbformat_minor": 4
}
